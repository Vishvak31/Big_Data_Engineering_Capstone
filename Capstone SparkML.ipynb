{
 "cells": [
  {
   "cell_type": "markdown",
   "metadata": {},
   "source": [
    "## Importing Libraries "
   ]
  },
  {
   "cell_type": "code",
   "execution_count": 1,
   "metadata": {},
   "outputs": [
    {
     "name": "stdout",
     "output_type": "stream",
     "text": [
      "App Name -  anabig11428 : Hive Integration\n",
      "[('spark.eventLog.enabled', 'true'), ('spark.driver.extraLibraryPath', '/opt/cloudera/parcels/CDH-6.2.1-1.cdh6.2.1.p0.1425774/lib/hadoop/lib/native'), ('spark.driver.host', 'ip-10-1-1-204.ap-south-1.compute.internal'), ('spark.yarn.appMasterEnv.MKL_NUM_THREADS', '1'), ('spark.yarn.jars', 'local:/opt/cloudera/parcels/CDH-6.2.1-1.cdh6.2.1.p0.1425774/lib/spark/jars/*,local:/opt/cloudera/parcels/CDH-6.2.1-1.cdh6.2.1.p0.1425774/lib/spark/hive/*'), ('spark.sql.queryExecutionListeners', 'com.cloudera.spark.lineage.NavigatorQueryListener'), ('spark.driver.port', '35282'), ('spark.yarn.am.extraLibraryPath', '/opt/cloudera/parcels/CDH-6.2.1-1.cdh6.2.1.p0.1425774/lib/hadoop/lib/native'), ('spark.ui.killEnabled', 'true'), ('spark.org.apache.hadoop.yarn.server.webproxy.amfilter.AmIpFilter.param.PROXY_URI_BASES', 'http://ip-10-1-1-204.ap-south-1.compute.internal:6066/proxy/application_1652166004796_5782'), ('spark.lineage.log.dir', '/var/log/spark/lineage'), ('spark.eventLog.dir', 'hdfs://nameservice1/user/spark/applicationHistory'), ('spark.dynamicAllocation.executorIdleTimeout', '60'), ('spark.serializer', 'org.apache.spark.serializer.KryoSerializer'), ('spark.io.encryption.enabled', 'false'), ('spark.ui.proxyBase', '/proxy/application_1652166004796_5782'), ('spark.authenticate', 'false'), ('spark.serializer.objectStreamReset', '100'), ('spark.app.name', 'Data_Engineer_Capstone'), ('spark.yarn.historyServer.address', 'http://ip-10-1-1-204.ap-south-1.compute.internal:18088'), ('spark.submit.deployMode', 'client'), ('spark.ui.filters', 'org.apache.hadoop.yarn.server.webproxy.amfilter.AmIpFilter'), ('spark.network.crypto.enabled', 'false'), ('hive.metastore.uris', 'thrift://ip-10-1-2-24.ap-south-1.compute.internal:9083'), ('spark.shuffle.service.enabled', 'true'), ('spark.yarn.historyServer.allowTracking', 'true'), ('spark.executorEnv.MKL_NUM_THREADS', '1'), ('spark.executor.extraLibraryPath', '/opt/cloudera/parcels/CDH-6.2.1-1.cdh6.2.1.p0.1425774/lib/hadoop/lib/native'), ('spark.executor.id', 'driver'), ('spark.dynamicAllocation.schedulerBacklogTimeout', '1'), ('spark.app.id', 'application_1652166004796_5782'), ('spark.yarn.appMasterEnv.OPENBLAS_NUM_THREADS', '1'), ('spark.shuffle.service.port', '7337'), ('spark.org.apache.hadoop.yarn.server.webproxy.amfilter.AmIpFilter.param.PROXY_HOSTS', 'ip-10-1-1-204.ap-south-1.compute.internal'), ('spark.lineage.enabled', 'true'), ('spark.extraListeners', 'com.cloudera.spark.lineage.NavigatorAppListener'), ('spark.yarn.config.gatewayPath', '/opt/cloudera/parcels'), ('spark.master', 'yarn'), ('spark.sql.warehouse.dir', '/user/hive/warehouse'), ('spark.sql.catalogImplementation', 'hive'), ('spark.rdd.compress', 'True'), ('spark.driver.log.persistToDfs.enabled', 'true'), ('spark.ui.enabled', 'false'), ('spark.dynamicAllocation.minExecutors', '0'), ('spark.yarn.config.replacementPath', '{{HADOOP_COMMON_HOME}}/../../..'), ('spark.dynamicAllocation.enabled', 'true'), ('spark.executorEnv.PYTHONPATH', '/opt/cloudera/parcels/CDH-6.2.1-1.cdh6.2.1.p0.1425774/lib/spark/python/lib/py4j-0.10.7-src.zip<CPS>/opt/cloudera/parcels/CDH-6.2.1-1.cdh6.2.1.p0.1425774/lib/spark/python/lib/pyspark.zip'), ('spark.yarn.isPython', 'true'), ('spark.executorEnv.OPENBLAS_NUM_THREADS', '1'), ('spark.ui.showConsoleProgress', 'true'), ('spark.driver.log.dfsDir', '/user/spark/driverLogs')]\n"
     ]
    }
   ],
   "source": [
    "import os\n",
    "os.environ['PYSPARK_DRIVER_PYTHON'] = '/opt/anaconda3/bin/python3.7'\n",
    "os.environ['PYSPARK_PYTHON'] = '/opt/anaconda3/bin/python3.7'\n",
    "os.environ[\"SPARK_HOME\"] = '/opt/cloudera/parcels/CDH/lib/spark'\n",
    "\n",
    "import seaborn as sns\n",
    "import pandas as pd\n",
    "import numpy as np\n",
    "import matplotlib.pyplot as plt\n",
    "\n",
    "import findspark\n",
    "findspark.init()\n",
    "from pyspark import SparkContext, SparkConf\n",
    "from pyspark.sql import SparkSession,SQLContext, Row\n",
    "import pyspark.sql.functions as F\n",
    "\n",
    "from pyspark.ml.feature import StringIndexer, VectorAssembler\n",
    "from pyspark.sql.functions import col, log, isnan, count\n",
    "from pyspark.ml.feature import Imputer\n",
    "from pyspark.ml.classification import RandomForestClassifier\n",
    "from pyspark.ml.evaluation import MulticlassClassificationEvaluator\n",
    "from pyspark.ml import Pipeline\n",
    "\n",
    "cwd = os.getcwd() #Boiler\n",
    "for part in cwd.split('/'):\n",
    "    if part.lower().startswith('test6'):\n",
    "        user_id = part.title()\n",
    "    user_id = part.title().lower()\n",
    "\n",
    "app_name = '{0} : Hive Integration'.format(user_id)\n",
    "print(\"App Name - \",app_name)\n",
    "\n",
    "sparkSession = (SparkSession.builder.appName(\"Data_Engineer_Capstone\").config(\"hive.metastore.uris\",\"thrift://ip-10-1-2-24.ap-south-1.compute.internal:9083\").enableHiveSupport().getOrCreate())\n",
    "\n",
    "print(sparkSession.sparkContext.getConf().getAll()) #configurations"
   ]
  },
  {
   "cell_type": "markdown",
   "metadata": {},
   "source": [
    "create_tbl = \"CREATE TABLE IF NOT EXISTS employees{}(age STRING, name STRING) ROW FORMAT DELIMITED FIELDS TERMINATED BY ',' LINES TERMINATED BY '\\n'\"\n",
    "sparkSession.sql(create_tbl.format(user_id.upper()))\n"
   ]
  },
  {
   "cell_type": "markdown",
   "metadata": {},
   "source": [
    "## Importing Data"
   ]
  },
  {
   "cell_type": "code",
   "execution_count": 2,
   "metadata": {},
   "outputs": [
    {
     "name": "stdout",
     "output_type": "stream",
     "text": [
      "++\n",
      "||\n",
      "++\n",
      "++\n",
      "\n"
     ]
    }
   ],
   "source": [
    "sparkSession.sql('use db_vishvak').show()"
   ]
  },
  {
   "cell_type": "code",
   "execution_count": 3,
   "metadata": {},
   "outputs": [
    {
     "name": "stdout",
     "output_type": "stream",
     "text": [
      "+----------+--------------------+-----------+\n",
      "|  database|           tableName|isTemporary|\n",
      "+----------+--------------------+-----------+\n",
      "|db_vishvak|              annual|      false|\n",
      "|db_vishvak|       annual_return|      false|\n",
      "|db_vishvak|           avg_itrst|      false|\n",
      "|db_vishvak|         charged_off|      false|\n",
      "|db_vishvak|                 clv|      false|\n",
      "|db_vishvak|                cntr|      false|\n",
      "|db_vishvak|   complex_data_type|      false|\n",
      "|db_vishvak|             counter|      false|\n",
      "|db_vishvak|         departments|      false|\n",
      "|db_vishvak|            dept_emp|      false|\n",
      "|db_vishvak|        dept_manager|      false|\n",
      "|db_vishvak|         emp_details|      false|\n",
      "|db_vishvak|emp_details_parti...|      false|\n",
      "|db_vishvak|           employees|      false|\n",
      "|db_vishvak|          hist_table|      false|\n",
      "|db_vishvak|       interest_term|      false|\n",
      "|db_vishvak|            kweblist|      false|\n",
      "|db_vishvak|          kweblist_2|      false|\n",
      "|db_vishvak|             latlong|      false|\n",
      "|db_vishvak|          loan_final|      false|\n",
      "+----------+--------------------+-----------+\n",
      "only showing top 20 rows\n",
      "\n"
     ]
    }
   ],
   "source": [
    "sparkSession.sql('show tables').show()"
   ]
  },
  {
   "cell_type": "code",
   "execution_count": 4,
   "metadata": {},
   "outputs": [
    {
     "name": "stdout",
     "output_type": "stream",
     "text": [
      "+-------+------------------+\n",
      "|dept_no|         dept_name|\n",
      "+-------+------------------+\n",
      "|   d001|         Marketing|\n",
      "|   d002|           Finance|\n",
      "|   d003|   Human Resources|\n",
      "|   d004|        Production|\n",
      "|   d005|       development|\n",
      "|   d006|Quality Management|\n",
      "|   d007|             Sales|\n",
      "|   d008|          Research|\n",
      "|   d009|  Customer Service|\n",
      "+-------+------------------+\n",
      "\n"
     ]
    }
   ],
   "source": [
    "sparkSession.sql(\"select * from departments\").show()"
   ]
  },
  {
   "cell_type": "code",
   "execution_count": 5,
   "metadata": {},
   "outputs": [
    {
     "name": "stdout",
     "output_type": "stream",
     "text": [
      "+--------+------------------+\n",
      "|title_id|             title|\n",
      "+--------+------------------+\n",
      "|   e0001|Assistant Engineer|\n",
      "|   e0002|          Engineer|\n",
      "|   e0003|   Senior Engineer|\n",
      "|   e0004|  Technique Leader|\n",
      "|   m0001|           Manager|\n",
      "|   s0001|             Staff|\n",
      "|   s0002|      Senior Staff|\n",
      "+--------+------------------+\n",
      "\n"
     ]
    }
   ],
   "source": [
    "sparkSession.sql(\"select * from titles\").show()"
   ]
  },
  {
   "cell_type": "markdown",
   "metadata": {},
   "source": [
    "# Spark EDA"
   ]
  },
  {
   "cell_type": "markdown",
   "metadata": {},
   "source": [
    "## A list showing employee number, last name, first name, sex, and salary for each employee"
   ]
  },
  {
   "cell_type": "code",
   "execution_count": 6,
   "metadata": {},
   "outputs": [
    {
     "name": "stdout",
     "output_type": "stream",
     "text": [
      "+------+-----------+----------+---+------+\n",
      "|emp_no|  last_name|first_name|sex|salary|\n",
      "+------+-----------+----------+---+------+\n",
      "| 10001|    Facello|    Georgi|  M| 60117|\n",
      "| 10002|     Simmel|   Bezalel|  F| 65828|\n",
      "| 10003|    Bamford|     Parto|  M| 40006|\n",
      "| 10004|    Koblick| Chirstian|  M| 40054|\n",
      "| 10005|   Maliniak|   Kyoichi|  M| 78228|\n",
      "| 10006|    Preusig|    Anneke|  F| 40000|\n",
      "| 10007|  Zielinski|   Tzvetan|  F| 56724|\n",
      "| 10008|   Kalloufi|    Saniya|  M| 46671|\n",
      "| 10009|       Peac|    Sumant|  F| 60929|\n",
      "| 10010|   Piveteau| Duangkaew|  F| 72488|\n",
      "| 10011|      Sluis|      Mary|  F| 42365|\n",
      "| 10012|  Bridgland|  Patricio|  M| 40000|\n",
      "| 10013|     Terkki| Eberhardt|  M| 40000|\n",
      "| 10014|      Genin|     Berni|  M| 46168|\n",
      "| 10015|  Nooteboom|  Guoxiang|  M| 40000|\n",
      "| 10016|Cappelletti|  Kazuhito|  M| 70889|\n",
      "| 10017|  Bouloucos| Cristinel|  F| 71380|\n",
      "| 10018|       Peha|  Kazuhide|  F| 55881|\n",
      "| 10019|    Haddadi|   Lillian|  M| 44276|\n",
      "| 10020|    Warwick|    Mayuko|  M| 40000|\n",
      "+------+-----------+----------+---+------+\n",
      "only showing top 20 rows\n",
      "\n"
     ]
    }
   ],
   "source": [
    "sparkSession.sql(\"select s.emp_no, e.last_name, e.first_name, e.sex, s.salary from employees as e inner join salaries as s on s.emp_no = e.emp_no order by s.emp_no\").show()\n"
   ]
  },
  {
   "cell_type": "markdown",
   "metadata": {},
   "source": [
    "## A list showing first name, last  name, and hire date for employees who were hired in 1986\n"
   ]
  },
  {
   "cell_type": "code",
   "execution_count": 7,
   "metadata": {},
   "outputs": [
    {
     "name": "stdout",
     "output_type": "stream",
     "text": [
      "+------+---------+----------+----------+\n",
      "|emp_no|last_name|first_name| hire_date|\n",
      "+------+---------+----------+----------+\n",
      "| 10081|    Rosen|  Zhongwei|10/30/1986|\n",
      "| 10150|    Perng|  Zhenbing|11/16/1986|\n",
      "| 10201|  Kavraki|     Idoia|11/22/1986|\n",
      "| 10238|     Gire| Mototsugu|11/19/1986|\n",
      "| 10268|   Siochi|    Nishit|12/17/1986|\n",
      "| 10317|    Birge|      Arie|12/10/1986|\n",
      "| 10361|    Sidou|     Seshu|10/23/1986|\n",
      "| 10435| Tagansky|    Marsha|12/19/1986|\n",
      "| 10522| Cesareni|     Marke|12/12/1986|\n",
      "| 10533|Smailagic| Mohamadou|10/31/1986|\n",
      "| 10701| Zolotykh| Hyuncheol|10/27/1986|\n",
      "| 10807| Zallocco|  Munehiro|10/23/1986|\n",
      "| 10832|  Bergere|     Hidde|10/11/1986|\n",
      "| 10856|     Peck| Sreenivas|12/31/1986|\n",
      "| 10962|   Kugler|    Naraig|12/16/1986|\n",
      "| 10975| Birnbaum| Peternela|10/31/1986|\n",
      "| 11010| Narwekar|    Jaques|12/18/1986|\n",
      "| 11012|Speckmann|   Taegyun|12/28/1986|\n",
      "| 11059|  Jarecki|    Shawna|11/17/1986|\n",
      "| 11085|  Thummel|   Hailing|11/27/1986|\n",
      "+------+---------+----------+----------+\n",
      "only showing top 20 rows\n",
      "\n"
     ]
    }
   ],
   "source": [
    "sparkSession.sql(\" select emp_no, last_name, first_name, hire_date from employees where cast(substr( hire_date,7,4) as int) = 1986 \").show()"
   ]
  },
  {
   "cell_type": "markdown",
   "metadata": {},
   "source": [
    "\n",
    "## A list showing the manager of each department with the following information: department number, department name, the manager's employee number, last name, first name.\n"
   ]
  },
  {
   "cell_type": "code",
   "execution_count": 8,
   "metadata": {},
   "outputs": [
    {
     "name": "stdout",
     "output_type": "stream",
     "text": [
      "+-------+------------------+------+------------+-----------+\n",
      "|dept_no|         dept_name|emp_no|   last_name| first_name|\n",
      "+-------+------------------+------+------------+-----------+\n",
      "|   d001|         Marketing|110022|  Markovitch|  Margareta|\n",
      "|   d001|         Marketing|110039|    Minakawa|   Vishwani|\n",
      "|   d002|           Finance|110114|  Legleitner|      Isamu|\n",
      "|   d002|           Finance|110085|       Alpin|       Ebru|\n",
      "|   d003|   Human Resources|110228|     Sigstam|    Karsten|\n",
      "|   d003|   Human Resources|110183|Ossenbruggen|    Shirish|\n",
      "|   d004|        Production|110344|       Cools|     Rosine|\n",
      "|   d004|        Production|110303|     Wegerle|  Krassimir|\n",
      "|   d004|        Production|110386|      Kieras|       Shem|\n",
      "|   d004|        Production|110420|    Ghazalie|      Oscar|\n",
      "|   d005|       development|110511|    Hagimont|   DeForest|\n",
      "|   d005|       development|110567|    DasSarma|       Leon|\n",
      "|   d006|Quality Management|110800|     Quadeer|     Sanjoy|\n",
      "|   d006|Quality Management|110765|     Hofmeyr|     Rutger|\n",
      "|   d006|Quality Management|110725|     Onuegbe|  Peternela|\n",
      "|   d006|Quality Management|110854|       Pesch|       Dung|\n",
      "|   d007|             Sales|111035|   Kaelbling|Przemyslawa|\n",
      "|   d007|             Sales|111133|       Zhang|      Hauke|\n",
      "|   d008|          Research|111400|     Staelin|       Arie|\n",
      "|   d008|          Research|111534|      Kambil|     Hilary|\n",
      "+-------+------------------+------+------------+-----------+\n",
      "only showing top 20 rows\n",
      "\n"
     ]
    }
   ],
   "source": [
    "sparkSession.sql(\"select distinct  dept_manager.dept_no, departments.dept_name, dept_manager.emp_no, employees.last_name, employees.first_name from dept_manager inner join departments on dept_manager.dept_no= departments.dept_no inner join employees on dept_manager.emp_no = employees.emp_no order by dept_manager.dept_no\").show()\n"
   ]
  },
  {
   "cell_type": "markdown",
   "metadata": {},
   "source": [
    "## A list showing the department of each employee with the following information: employee number, last name, first name, and department name"
   ]
  },
  {
   "cell_type": "code",
   "execution_count": 9,
   "metadata": {},
   "outputs": [
    {
     "name": "stdout",
     "output_type": "stream",
     "text": [
      "+------+-----------+----------+------------------+\n",
      "|emp_no|  last_name|first_name|         dept_name|\n",
      "+------+-----------+----------+------------------+\n",
      "| 10001|    Facello|    Georgi|       development|\n",
      "| 10002|     Simmel|   Bezalel|             Sales|\n",
      "| 10003|    Bamford|     Parto|        Production|\n",
      "| 10004|    Koblick| Chirstian|        Production|\n",
      "| 10005|   Maliniak|   Kyoichi|   Human Resources|\n",
      "| 10006|    Preusig|    Anneke|       development|\n",
      "| 10007|  Zielinski|   Tzvetan|          Research|\n",
      "| 10008|   Kalloufi|    Saniya|       development|\n",
      "| 10009|       Peac|    Sumant|Quality Management|\n",
      "| 10010|   Piveteau| Duangkaew|        Production|\n",
      "| 10010|   Piveteau| Duangkaew|Quality Management|\n",
      "| 10011|      Sluis|      Mary|  Customer Service|\n",
      "| 10012|  Bridgland|  Patricio|       development|\n",
      "| 10013|     Terkki| Eberhardt|   Human Resources|\n",
      "| 10014|      Genin|     Berni|       development|\n",
      "| 10015|  Nooteboom|  Guoxiang|          Research|\n",
      "| 10016|Cappelletti|  Kazuhito|             Sales|\n",
      "| 10017|  Bouloucos| Cristinel|         Marketing|\n",
      "| 10018|       Peha|  Kazuhide|       development|\n",
      "| 10018|       Peha|  Kazuhide|        Production|\n",
      "+------+-----------+----------+------------------+\n",
      "only showing top 20 rows\n",
      "\n"
     ]
    }
   ],
   "source": [
    "sparkSession.sql(\"select distinct  employees.emp_no, employees.last_name, employees.first_name, departments.dept_name from employees left join dept_emp on employees.emp_no = dept_emp.emp_no inner join departments on dept_emp.dept_no = departments.dept_no order by employees.emp_no\").show()"
   ]
  },
  {
   "cell_type": "markdown",
   "metadata": {},
   "source": [
    "## A list showing first name, last name, and sex for employees whose first name is \"Hercules\" and last names begin with \"B.“"
   ]
  },
  {
   "cell_type": "code",
   "execution_count": 10,
   "metadata": {},
   "outputs": [
    {
     "name": "stdout",
     "output_type": "stream",
     "text": [
      "+-------------+----------+\n",
      "|    last_name|first_name|\n",
      "+-------------+----------+\n",
      "|         Baak|  Hercules|\n",
      "|         Baer|  Hercules|\n",
      "|         Bahr|  Hercules|\n",
      "|         Bail|  Hercules|\n",
      "|         Bain|  Hercules|\n",
      "|   Baranowski|  Hercules|\n",
      "|     Barreiro|  Hercules|\n",
      "|      Basagni|  Hercules|\n",
      "|     Benantar|  Hercules|\n",
      "|   Benzmuller|  Hercules|\n",
      "|Bernardinello|  Hercules|\n",
      "|    Bernatsky|  Hercules|\n",
      "|      Berstel|  Hercules|\n",
      "|        Biran|  Hercules|\n",
      "|        Birge|  Hercules|\n",
      "|        Biron|  Hercules|\n",
      "|      Bisiani|  Hercules|\n",
      "|       Bodoff|  Hercules|\n",
      "|      Brendel|  Hercules|\n",
      "|      Buchter|  Hercules|\n",
      "+-------------+----------+\n",
      "\n"
     ]
    }
   ],
   "source": [
    "sparkSession.sql(\"select last_name, first_name from employees where (first_name = 'Hercules') and (lower(last_name) like 'b%') order by last_name\").show()\n"
   ]
  },
  {
   "cell_type": "markdown",
   "metadata": {},
   "source": [
    "## A list showing all employees in the Sales department, including their employee number, last name, first name, and department name."
   ]
  },
  {
   "cell_type": "code",
   "execution_count": 11,
   "metadata": {},
   "outputs": [
    {
     "name": "stdout",
     "output_type": "stream",
     "text": [
      "+------+------------+----------+---------+\n",
      "|emp_no|   last_name|first_name|dept_name|\n",
      "+------+------------+----------+---------+\n",
      "| 10002|      Simmel|   Bezalel|    Sales|\n",
      "| 10016| Cappelletti|  Kazuhito|    Sales|\n",
      "| 10034|        Swan|     Bader|    Sales|\n",
      "| 10041|      Lenart|       Uri|    Sales|\n",
      "| 10050|      Dredge|   Yinghua|    Sales|\n",
      "| 10053|    Zschoche|    Sanjiv|    Sales|\n",
      "| 10060| Billingsley|  Breannda|    Sales|\n",
      "| 10061|      Herber|       Tse|    Sales|\n",
      "| 10068|     Brattka|  Charlene|    Sales|\n",
      "| 10087|     Eugenio|   Xinglin|    Sales|\n",
      "| 10088|    Syrzycki|  Jungsoon|    Sales|\n",
      "| 10089|Flasterstein| Sudharsan|    Sales|\n",
      "| 10093|     Desikan|   Sailaja|    Sales|\n",
      "| 10095|      Morton|    Hilari|    Sales|\n",
      "| 10099|     Sullins|    Valter|    Sales|\n",
      "| 10101|      Heyers|     Perla|    Sales|\n",
      "| 10107|        Baca|      Dung|    Sales|\n",
      "| 10125|     Hiltgen|     Syozo|    Sales|\n",
      "| 10136|    Pintelas|    Zissis|    Sales|\n",
      "| 10148|       Azumi|    Douadi|    Sales|\n",
      "+------+------------+----------+---------+\n",
      "only showing top 20 rows\n",
      "\n"
     ]
    }
   ],
   "source": [
    "sparkSession.sql(\"select employees.emp_no, employees.last_name, employees.first_name, departments.dept_name from employees inner join dept_emp on dept_emp.emp_no = employees.emp_no inner join departments on dept_emp.dept_no= departments.dept_no where lower(departments.dept_name) = 'sales'\").show()"
   ]
  },
  {
   "cell_type": "markdown",
   "metadata": {},
   "source": [
    "## A list showing all employees in the Sales and Development departments, including their employee number, last name, first name, and department name."
   ]
  },
  {
   "cell_type": "code",
   "execution_count": 12,
   "metadata": {},
   "outputs": [
    {
     "name": "stdout",
     "output_type": "stream",
     "text": [
      "+------+-----------+----------+-----------+\n",
      "|emp_no|  last_name|first_name|  dept_name|\n",
      "+------+-----------+----------+-----------+\n",
      "| 10001|    Facello|    Georgi|development|\n",
      "| 10002|     Simmel|   Bezalel|      Sales|\n",
      "| 10006|    Preusig|    Anneke|development|\n",
      "| 10008|   Kalloufi|    Saniya|development|\n",
      "| 10012|  Bridgland|  Patricio|development|\n",
      "| 10014|      Genin|     Berni|development|\n",
      "| 10016|Cappelletti|  Kazuhito|      Sales|\n",
      "| 10018|       Peha|  Kazuhide|development|\n",
      "| 10021|       Erde|     Ramzi|development|\n",
      "| 10022|     Famili|    Shahaf|development|\n",
      "| 10023| Montemayor|     Bojan|development|\n",
      "| 10025|     Heyers| Prasadram|development|\n",
      "| 10027|    Reistad|    Divier|development|\n",
      "| 10028|   Tempesti|  Domenick|development|\n",
      "| 10031|     Joslin|   Karsten|development|\n",
      "| 10034|       Swan|     Bader|      Sales|\n",
      "| 10037|   Makrucki|   Pradeep|development|\n",
      "| 10040|    Meriste|     Weiyi|development|\n",
      "| 10041|     Lenart|       Uri|      Sales|\n",
      "| 10043|    Tzvieli|    Yishay|development|\n",
      "+------+-----------+----------+-----------+\n",
      "only showing top 20 rows\n",
      "\n"
     ]
    }
   ],
   "source": [
    "sparkSession.sql(\"select employees.emp_no, employees.last_name, employees.first_name, departments.dept_name from employees inner join dept_emp on dept_emp.emp_no = employees.emp_no inner join departments on dept_emp.dept_no= departments.dept_no where (lower(departments.dept_name) = 'sales') or (lower(departments.dept_name) = 'development')\").show()\n"
   ]
  },
  {
   "cell_type": "markdown",
   "metadata": {},
   "source": [
    "## A list showing the frequency count of employee last names, in descending order. ( i.e., how many employees share each last name)."
   ]
  },
  {
   "cell_type": "code",
   "execution_count": 13,
   "metadata": {},
   "outputs": [
    {
     "name": "stdout",
     "output_type": "stream",
     "text": [
      "+-----------+---------+\n",
      "|  last_name|Frequency|\n",
      "+-----------+---------+\n",
      "|       Baba|      226|\n",
      "|     Gelosh|      223|\n",
      "|      Coorg|      223|\n",
      "|     Farris|      222|\n",
      "|    Sudbeck|      222|\n",
      "|     Adachi|      221|\n",
      "|     Osgood|      220|\n",
      "|     Masada|      218|\n",
      "|     Neiman|      218|\n",
      "|    Mandell|      218|\n",
      "|    Wendorf|      217|\n",
      "|Boudaillier|      217|\n",
      "|     Pettis|      216|\n",
      "|     Mahnke|      216|\n",
      "|    Solares|      216|\n",
      "|   Cummings|      216|\n",
      "|   Collette|      215|\n",
      "|     Emmart|      215|\n",
      "|   Birjandi|      215|\n",
      "|    Kulisch|      215|\n",
      "+-----------+---------+\n",
      "only showing top 20 rows\n",
      "\n"
     ]
    }
   ],
   "source": [
    "sparkSession.sql(\"select last_name,count(last_name) as Frequency from employees group by last_name order by Frequency desc\").show()"
   ]
  },
  {
   "cell_type": "markdown",
   "metadata": {},
   "source": [
    "## Histogram to show the salary distribution among employees."
   ]
  },
  {
   "cell_type": "code",
   "execution_count": 34,
   "metadata": {},
   "outputs": [
    {
     "data": {
      "image/png": "[encoded data removed]",
      "text/plain": [
       "<Figure size 432x288 with 1 Axes>"
      ]
     },
     "metadata": {
      "needs_background": "light"
     },
     "output_type": "display_data"
    }
   ],
   "source": [
    "sns.distplot(sparkSession.sql(\"select emp_no, salary from salaries\").toPandas())\n",
    "plt.show()"
   ]
  },
  {
   "cell_type": "code",
   "execution_count": 15,
   "metadata": {},
   "outputs": [
    {
     "name": "stdout",
     "output_type": "stream",
     "text": [
      "+------+------------+----------+----------+---------+---+----------+--------------+-----------------------+-----------+----------+\n",
      "|emp_no|emp_title_id|birth_date|first_name|last_name|sex| hire_date|no_of_projects|last_performance_rating|left_status| last_date|\n",
      "+------+------------+----------+----------+---------+---+----------+--------------+-----------------------+-----------+----------+\n",
      "| 10001|       e0003|  9/2/1953|    Georgi|  Facello|  M| 6/26/1986|             9|                      C|          1|7/30/1994\n",
      "| 10002|       s0001|  6/2/1964|   Bezalel|   Simmel|  F|11/21/1985|             8|                      B|          0|         \n",
      "| 10003|       e0003| 12/3/1959|     Parto|  Bamford|  M| 8/28/1986|             1|                      C|          0|         \n",
      "| 10004|       e0003|  5/1/1954| Chirstian|  Koblick|  M| 12/1/1986|             5|                      A|          0|         \n",
      "| 10005|       s0001| 1/21/1955|   Kyoichi| Maliniak|  M| 9/12/1989|             6|                      A|          0|         \n",
      "+------+------------+----------+----------+---------+---+----------+--------------+-----------------------+-----------+----------+\n",
      "\n",
      "+------+------+\n",
      "|emp_no|salary|\n",
      "+------+------+\n",
      "| 10001| 60117|\n",
      "| 10002| 65828|\n",
      "| 10003| 40006|\n",
      "| 10004| 40054|\n",
      "| 10005| 78228|\n",
      "+------+------+\n",
      "\n",
      "+-------+---------------+\n",
      "|dept_no|      dept_name|\n",
      "+-------+---------------+\n",
      "|   d001|      Marketing|\n",
      "|   d002|        Finance|\n",
      "|   d003|Human Resources|\n",
      "|   d004|     Production|\n",
      "|   d005|    development|\n",
      "+-------+---------------+\n",
      "\n",
      "+--------+------------------+\n",
      "|title_id|             title|\n",
      "+--------+------------------+\n",
      "|   e0001|Assistant Engineer|\n",
      "|   e0002|          Engineer|\n",
      "|   e0003|   Senior Engineer|\n",
      "|   e0004|  Technique Leader|\n",
      "|   m0001|           Manager|\n",
      "+--------+------------------+\n",
      "\n",
      "+------+-------+\n",
      "|emp_no|dept_no|\n",
      "+------+-------+\n",
      "| 10001|   d005|\n",
      "| 10002|   d007|\n",
      "| 10003|   d004|\n",
      "| 10004|   d004|\n",
      "| 10005|   d003|\n",
      "+------+-------+\n",
      "\n"
     ]
    }
   ],
   "source": [
    "sparkSession.sql(\"select * from employees limit 5\").show()\n",
    "sparkSession.sql(\"select * from salaries limit 5\").show()\n",
    "sparkSession.sql(\"select * from departments limit 5\").show()\n",
    "sparkSession.sql(\"select * from titles limit 5\").show()\n",
    "sparkSession.sql(\"select * from dept_emp limit 5\").show()"
   ]
  },
  {
   "cell_type": "markdown",
   "metadata": {},
   "source": [
    "## Bar graph to show the Average Salary per title (designation)"
   ]
  },
  {
   "cell_type": "code",
   "execution_count": 16,
   "metadata": {},
   "outputs": [],
   "source": [
    "Avg_Salary = sparkSession.sql(\"select round(avg(salaries.salary),2) as Avgsalary, titles.title from employees inner join salaries on salaries.emp_no = employees.emp_no inner join titles on employees.emp_title_id= titles.title_id group by titles.title order by Avgsalary\").toPandas()"
   ]
  },
  {
   "cell_type": "code",
   "execution_count": 17,
   "metadata": {},
   "outputs": [
    {
     "data": {
      "text/html": [
       "<div>\n",
       "<style scoped>\n",
       "    .dataframe tbody tr th:only-of-type {\n",
       "        vertical-align: middle;\n",
       "    }\n",
       "\n",
       "    .dataframe tbody tr th {\n",
       "        vertical-align: top;\n",
       "    }\n",
       "\n",
       "    .dataframe thead th {\n",
       "        text-align: right;\n",
       "    }\n",
       "</style>\n",
       "<table border=\"1\" class=\"dataframe\">\n",
       "  <thead>\n",
       "    <tr style=\"text-align: right;\">\n",
       "      <th></th>\n",
       "      <th>Avgsalary</th>\n",
       "      <th>title</th>\n",
       "    </tr>\n",
       "  </thead>\n",
       "  <tbody>\n",
       "    <tr>\n",
       "      <th>0</th>\n",
       "      <td>48506.80</td>\n",
       "      <td>Senior Engineer</td>\n",
       "    </tr>\n",
       "    <tr>\n",
       "      <th>1</th>\n",
       "      <td>48535.34</td>\n",
       "      <td>Engineer</td>\n",
       "    </tr>\n",
       "    <tr>\n",
       "      <th>2</th>\n",
       "      <td>48564.43</td>\n",
       "      <td>Assistant Engineer</td>\n",
       "    </tr>\n",
       "    <tr>\n",
       "      <th>3</th>\n",
       "      <td>48582.90</td>\n",
       "      <td>Technique Leader</td>\n",
       "    </tr>\n",
       "    <tr>\n",
       "      <th>4</th>\n",
       "      <td>51531.04</td>\n",
       "      <td>Manager</td>\n",
       "    </tr>\n",
       "    <tr>\n",
       "      <th>5</th>\n",
       "      <td>58465.38</td>\n",
       "      <td>Staff</td>\n",
       "    </tr>\n",
       "    <tr>\n",
       "      <th>6</th>\n",
       "      <td>58550.17</td>\n",
       "      <td>Senior Staff</td>\n",
       "    </tr>\n",
       "  </tbody>\n",
       "</table>\n",
       "</div>"
      ],
      "text/plain": [
       "   Avgsalary               title\n",
       "0   48506.80     Senior Engineer\n",
       "1   48535.34            Engineer\n",
       "2   48564.43  Assistant Engineer\n",
       "3   48582.90    Technique Leader\n",
       "4   51531.04             Manager\n",
       "5   58465.38               Staff\n",
       "6   58550.17        Senior Staff"
      ]
     },
     "execution_count": 17,
     "metadata": {},
     "output_type": "execute_result"
    }
   ],
   "source": [
    "Avg_Salary"
   ]
  },
  {
   "cell_type": "code",
   "execution_count": 18,
   "metadata": {},
   "outputs": [
    {
     "data": {
      "image/png": "[encoded data removed]",
      "text/plain": [
       "<Figure size 432x288 with 1 Axes>"
      ]
     },
     "metadata": {
      "needs_background": "light"
     },
     "output_type": "display_data"
    }
   ],
   "source": [
    "sns.barplot(x = Avg_Salary.title, y = Avg_Salary.Avgsalary, palette='coolwarm')\n",
    "plt.show()"
   ]
  },
  {
   "cell_type": "markdown",
   "metadata": {},
   "source": [
    "## Calculate employee tenure & show the tenure distribution among the employees."
   ]
  },
  {
   "cell_type": "code",
   "execution_count": 98,
   "metadata": {},
   "outputs": [
    {
     "data": {
      "image/png": "[encoded data removed]",
      "text/plain": [
       "<Figure size 792x432 with 1 Axes>"
      ]
     },
     "metadata": {
      "needs_background": "light"
     },
     "output_type": "display_data"
    }
   ],
   "source": [
    "df = sparkSession.sql(\"select hire_date,replace(last_date,'\\r','') as last_date from employees\").toPandas()\n",
    "df = pd.to_datetime(df['last_date'].replace(\"\",max(df['hire_date']))) - pd.to_datetime(df['hire_date'])\n",
    "df = df.value_counts()\n",
    "plt.figure(figsize=(11,6))\n",
    "plt.hist(df,color='skyblue',alpha=1,edgecolor='black')\n",
    "plt.xlabel('Number of Employee',fontsize=16,color='black',labelpad=20)\n",
    "plt.ylabel('Count of Tenure',fontsize=16,color='black',labelpad=20)\n",
    "plt.show()"
   ]
  },
  {
   "cell_type": "markdown",
   "metadata": {},
   "source": [
    "## How many employees are females and how many employees are male?"
   ]
  },
  {
   "cell_type": "code",
   "execution_count": 101,
   "metadata": {},
   "outputs": [
    {
     "name": "stdout",
     "output_type": "stream",
     "text": [
      "+------+-----------------+\n",
      "|Gender|No_of_Individuals|\n",
      "+------+-----------------+\n",
      "|     M|           179973|\n",
      "|     F|           120051|\n",
      "+------+-----------------+\n",
      "\n"
     ]
    }
   ],
   "source": [
    "sparkSession.sql(\"select sex as Gender,count(sex) as No_of_Individuals from employees group by sex order by No_of_Individuals  desc\").show()"
   ]
  },
  {
   "cell_type": "markdown",
   "metadata": {},
   "source": [
    "## What is the average salary department wise?"
   ]
  },
  {
   "cell_type": "code",
   "execution_count": 102,
   "metadata": {},
   "outputs": [
    {
     "name": "stdout",
     "output_type": "stream",
     "text": [
      "+------------------+------------------+\n",
      "|         dept_name|        Avg_Salary|\n",
      "+------------------+------------------+\n",
      "|             Sales| 69832.12715092354|\n",
      "|Quality Management| 46456.00571655814|\n",
      "|           Finance| 59533.51654560129|\n",
      "|        Production| 48760.45082669933|\n",
      "|          Research|48850.189718829875|\n",
      "|  Customer Service| 47998.67044105174|\n",
      "|         Marketing| 61095.89738261343|\n",
      "|       development|48697.334663446396|\n",
      "|   Human Resources| 44678.64680085461|\n",
      "+------------------+------------------+\n",
      "\n"
     ]
    }
   ],
   "source": [
    "sparkSession.sql(\"select departments.dept_name, avg(salaries.salary) as Avg_Salary from departments inner join dept_emp on departments.dept_no = dept_emp.dept_no inner join employees on dept_emp.emp_no = employees.emp_no inner join  salaries on employees.emp_no=salaries.emp_no group by departments.dept_name\").show()"
   ]
  },
  {
   "cell_type": "markdown",
   "metadata": {},
   "source": [
    "## Average salary of Managers Departments wise."
   ]
  },
  {
   "cell_type": "code",
   "execution_count": 106,
   "metadata": {},
   "outputs": [
    {
     "name": "stdout",
     "output_type": "stream",
     "text": [
      "+------------------+----------------------------------+--------------------------+\n",
      "|         dept_name|Number_of_Managers_department_wise|Average_salary_of_managers|\n",
      "+------------------+----------------------------------+--------------------------+\n",
      "|             Sales|                                 2|                   71380.0|\n",
      "|Quality Management|                                 4|                   49260.0|\n",
      "|           Finance|                                 2|                   56048.0|\n",
      "|        Production|                                 4|                   43115.0|\n",
      "|          Research|                                 2|                   60262.0|\n",
      "|  Customer Service|                                 4|                   43462.0|\n",
      "|         Marketing|                                 2|                   70554.0|\n",
      "|       development|                                 2|                   44313.0|\n",
      "|   Human Resources|                                 2|                   44146.0|\n",
      "+------------------+----------------------------------+--------------------------+\n",
      "\n"
     ]
    }
   ],
   "source": [
    "sparkSession.sql(\"\"\"select departments.dept_name, count(*) as Number_of_Managers_department_wise, round(avg(salaries.salary),0) Average_salary_of_managers from employees \n",
    "          join dept_manager on employees.emp_no = dept_manager.emp_no \n",
    "          join salaries on employees.emp_no = salaries.emp_no\n",
    "          join departments on dept_manager.dept_no = departments.dept_no\n",
    "          group by departments.dept_name\"\"\").show()"
   ]
  },
  {
   "cell_type": "markdown",
   "metadata": {},
   "source": [
    "## What is the average salary gender wise?"
   ]
  },
  {
   "cell_type": "code",
   "execution_count": 108,
   "metadata": {},
   "outputs": [
    {
     "name": "stdout",
     "output_type": "stream",
     "text": [
      "+------+------------------+\n",
      "|Gender|        Avg_Salary|\n",
      "+------+------------------+\n",
      "|     F|  52953.8364278515|\n",
      "|     M|52982.002944886175|\n",
      "+------+------------------+\n",
      "\n"
     ]
    }
   ],
   "source": [
    "sparkSession.sql(\"\"\"select employees.sex as Gender, avg(salaries.salary) as Avg_Salary\n",
    "from employees inner join salaries\n",
    "on employees.emp_no=salaries.emp_no\n",
    "group by employees.sex\"\"\").show()"
   ]
  },
  {
   "cell_type": "markdown",
   "metadata": {},
   "source": [
    "## Employees who are registered in more than one department"
   ]
  },
  {
   "cell_type": "code",
   "execution_count": 110,
   "metadata": {},
   "outputs": [
    {
     "name": "stdout",
     "output_type": "stream",
     "text": [
      "There are 31579 who are registered in more than one department.\n"
     ]
    }
   ],
   "source": [
    "df = sparkSession.sql(\"select emp_no, count(emp_no) as frequency from dept_emp group by emp_no having count(emp_no) > 1 order by frequency desc\")\n",
    "print(f\"There are {df.count()} who are registered in more than one department.\")"
   ]
  },
  {
   "cell_type": "markdown",
   "metadata": {},
   "source": [
    "# Machine Learning"
   ]
  },
  {
   "cell_type": "code",
   "execution_count": 86,
   "metadata": {},
   "outputs": [
    {
     "name": "stdout",
     "output_type": "stream",
     "text": [
      "+------+------------+----------+----------+---------+---+----------+--------------+-----------------------+-----------+----------+------+---------------+\n",
      "|emp_no|emp_title_id|birth_date|first_name|last_name|sex| hire_date|no_of_projects|last_performance_rating|left_status| last_date|salary|      dept_name|\n",
      "+------+------------+----------+----------+---------+---+----------+--------------+-----------------------+-----------+----------+------+---------------+\n",
      "| 60117|    development|\n",
      "| 65828|          Sales|\n",
      "| 40006|     Production|\n",
      "| 40054|     Production|\n",
      "| 78228|Human Resources|\n",
      "+------+------------+----------+----------+---------+---+----------+--------------+-----------------------+-----------+----------+------+---------------+\n",
      "only showing top 5 rows\n",
      "\n"
     ]
    }
   ],
   "source": [
    "df = sparkSession.sql(\"select emp.*, salaries.salary, dpt.dept_name from employees as emp \\\n",
    "                inner join dept_emp on emp.emp_no = dept_emp.emp_no \\\n",
    "                inner join departments as dpt on dept_emp.dept_no = dpt.dept_no \\\n",
    "                inner join titles on emp.emp_title_id = titles.title_id \\\n",
    "                inner join salaries on emp.emp_no = salaries.emp_no\").persist()\n",
    "df.show(5)"
   ]
  },
  {
   "cell_type": "code",
   "execution_count": 87,
   "metadata": {
    "scrolled": true
   },
   "outputs": [
    {
     "name": "stdout",
     "output_type": "stream",
     "text": [
      "+---+--------------+-----------------------+-----------+------+---------------+\n",
      "|sex|no_of_projects|last_performance_rating|left_status|salary|      dept_name|\n",
      "+---+--------------+-----------------------+-----------+------+---------------+\n",
      "|  M|             9|                      C|          1| 60117|    development|\n",
      "|  F|             8|                      B|          0| 65828|          Sales|\n",
      "|  M|             1|                      C|          0| 40006|     Production|\n",
      "|  M|             5|                      A|          0| 40054|     Production|\n",
      "|  M|             6|                      A|          0| 78228|Human Resources|\n",
      "+---+--------------+-----------------------+-----------+------+---------------+\n",
      "only showing top 5 rows\n",
      "\n"
     ]
    }
   ],
   "source": [
    "df = df.drop('emp_no', 'first_name', 'last_name', 'birth_date', 'emp_title_id', 'hire_date', 'last_date')\n",
    "df.show(5)"
   ]
  },
  {
   "cell_type": "markdown",
   "metadata": {},
   "source": [
    "## String Indexer "
   ]
  },
  {
   "cell_type": "code",
   "execution_count": 88,
   "metadata": {},
   "outputs": [
    {
     "name": "stdout",
     "output_type": "stream",
     "text": [
      "+---+--------------+-----------------------+-----------+------+---------------+-------+---------------------------+-------------+\n",
      "|sex|no_of_projects|last_performance_rating|left_status|salary|      dept_name|Out_sex|Out_last_performance_rating|Out_dept_name|\n",
      "+---+--------------+-----------------------+-----------+------+---------------+-------+---------------------------+-------------+\n",
      "|  M|             9|                      C|          1| 60117|    development|    0.0|                        2.0|          0.0|\n",
      "|  F|             8|                      B|          0| 65828|          Sales|    1.0|                        0.0|          2.0|\n",
      "|  M|             1|                      C|          0| 40006|     Production|    0.0|                        2.0|          1.0|\n",
      "|  M|             5|                      A|          0| 40054|     Production|    0.0|                        1.0|          1.0|\n",
      "|  M|             6|                      A|          0| 78228|Human Resources|    0.0|                        1.0|          7.0|\n",
      "+---+--------------+-----------------------+-----------+------+---------------+-------+---------------------------+-------------+\n",
      "only showing top 5 rows\n",
      "\n"
     ]
    }
   ],
   "source": [
    "df = StringIndexer(inputCol='sex', outputCol='Out_sex').fit(df).transform(df)\n",
    "df = StringIndexer(inputCol='last_performance_rating', outputCol='Out_last_performance_rating').fit(df).transform(df)\n",
    "df = StringIndexer(inputCol='dept_name', outputCol='Out_dept_name').fit(df).transform(df)\n",
    "\n",
    "df.show(5)"
   ]
  },
  {
   "cell_type": "markdown",
   "metadata": {},
   "source": [
    "## Vector Assembler"
   ]
  },
  {
   "cell_type": "code",
   "execution_count": 89,
   "metadata": {},
   "outputs": [
    {
     "name": "stdout",
     "output_type": "stream",
     "text": [
      "+---+--------------+-----------------------+-----+------+---------------+-------+---------------------------+-------------+\n",
      "|sex|no_of_projects|last_performance_rating|label|salary|      dept_name|Out_sex|Out_last_performance_rating|Out_dept_name|\n",
      "+---+--------------+-----------------------+-----+------+---------------+-------+---------------------------+-------------+\n",
      "|  M|             9|                      C|    1| 60117|    development|    0.0|                        2.0|          0.0|\n",
      "|  F|             8|                      B|    0| 65828|          Sales|    1.0|                        0.0|          2.0|\n",
      "|  M|             1|                      C|    0| 40006|     Production|    0.0|                        2.0|          1.0|\n",
      "|  M|             5|                      A|    0| 40054|     Production|    0.0|                        1.0|          1.0|\n",
      "|  M|             6|                      A|    0| 78228|Human Resources|    0.0|                        1.0|          7.0|\n",
      "+---+--------------+-----------------------+-----+------+---------------+-------+---------------------------+-------------+\n",
      "only showing top 5 rows\n",
      "\n"
     ]
    }
   ],
   "source": [
    "# Fitting \"Label\" column\n",
    "\n",
    "df = df.withColumnRenamed('left_status','label')\n",
    "df.show(5)"
   ]
  },
  {
   "cell_type": "code",
   "execution_count": 90,
   "metadata": {},
   "outputs": [
    {
     "name": "stdout",
     "output_type": "stream",
     "text": [
      "+-----+--------------------+\n",
      "|label|            features|\n",
      "+-----+--------------------+\n",
      "|    1|[0.0,9.0,2.0,0.0,...|\n",
      "|    0|[1.0,8.0,0.0,2.0,...|\n",
      "|    0|[0.0,1.0,2.0,1.0,...|\n",
      "|    0|[0.0,5.0,1.0,1.0,...|\n",
      "|    0|[0.0,6.0,1.0,7.0,...|\n",
      "|    0|[1.0,10.0,0.0,0.0...|\n",
      "|    1|[1.0,6.0,0.0,4.0,...|\n",
      "|    0|[0.0,9.0,2.0,0.0,...|\n",
      "|    0|[1.0,8.0,0.0,6.0,...|\n",
      "|    0|[1.0,4.0,1.0,6.0,...|\n",
      "+-----+--------------------+\n",
      "only showing top 10 rows\n",
      "\n"
     ]
    }
   ],
   "source": [
    "df = VectorAssembler(inputCols = ['Out_sex', 'no_of_projects', 'Out_last_performance_rating', 'Out_dept_name', 'salary'], \n",
    "                                 outputCol = \"features\").transform(df).select('label','features')\n",
    "df.show(10)"
   ]
  },
  {
   "cell_type": "markdown",
   "metadata": {
    "id": "cHliFjqCBH8t"
   },
   "source": [
    "# Train Test Split"
   ]
  },
  {
   "cell_type": "code",
   "execution_count": 91,
   "metadata": {
    "id": "HGYNeYylBKT2"
   },
   "outputs": [],
   "source": [
    "train_df, test_df = df.randomSplit([0.7, 0.3], seed = 42)"
   ]
  },
  {
   "cell_type": "markdown",
   "metadata": {
    "id": "AXU1F330QcGF"
   },
   "source": [
    "# Model Building"
   ]
  },
  {
   "cell_type": "code",
   "execution_count": 92,
   "metadata": {
    "id": "Z21G0JwWnOFf"
   },
   "outputs": [],
   "source": [
    "rfm = RandomForestClassifier(featuresCol=\"features\",\n",
    "                              labelCol=\"label\",\n",
    "                              numTrees=50,\n",
    "                              maxDepth=5,\n",
    "                              featureSubsetStrategy='onethird')\n",
    "rfm = rfm.fit(train_df)"
   ]
  },
  {
   "cell_type": "code",
   "execution_count": 93,
   "metadata": {
    "colab": {
     "base_uri": "https://localhost:8080/"
    },
    "id": "G8cn2E_cnOIa",
    "outputId": "711651b4-995a-4aa8-adff-991ebb6ce3f9"
   },
   "outputs": [
    {
     "name": "stdout",
     "output_type": "stream",
     "text": [
      "+-----+--------------------+--------------------+--------------------+----------+\n",
      "|label|            features|       rawPrediction|         probability|prediction|\n",
      "+-----+--------------------+--------------------+--------------------+----------+\n",
      "|    0|(5,[1,4],[1.0,400...|[45.0305413526121...|[0.90061082705224...|       0.0|\n",
      "|    0|(5,[1,4],[1.0,400...|[45.0305413526121...|[0.90061082705224...|       0.0|\n",
      "|    0|(5,[1,4],[1.0,400...|[45.0305413526121...|[0.90061082705224...|       0.0|\n",
      "|    0|(5,[1,4],[1.0,400...|[45.0305413526121...|[0.90061082705224...|       0.0|\n",
      "|    0|(5,[1,4],[1.0,400...|[45.0305413526121...|[0.90061082705224...|       0.0|\n",
      "|    0|(5,[1,4],[1.0,400...|[45.0305413526121...|[0.90061082705224...|       0.0|\n",
      "|    0|(5,[1,4],[1.0,400...|[45.0305413526121...|[0.90061082705224...|       0.0|\n",
      "|    0|(5,[1,4],[1.0,400...|[45.0305413526121...|[0.90061082705224...|       0.0|\n",
      "|    0|(5,[1,4],[1.0,400...|[45.0305413526121...|[0.90061082705224...|       0.0|\n",
      "|    0|(5,[1,4],[1.0,400...|[45.0305413526121...|[0.90061082705224...|       0.0|\n",
      "+-----+--------------------+--------------------+--------------------+----------+\n",
      "only showing top 10 rows\n",
      "\n"
     ]
    }
   ],
   "source": [
    "pred = rfm.transform(test_df)\n",
    "pred.show(10)"
   ]
  },
  {
   "cell_type": "code",
   "execution_count": 94,
   "metadata": {
    "id": "fby8yaRXnOLM"
   },
   "outputs": [],
   "source": [
    "def train(train, test, classifier):\n",
    "    # (train, test) = df.randomSplit([.7,.3])\n",
    "    print(classifier)\n",
    "    model = classifier.fit(train)\n",
    "\n",
    "    pred = model.transform(test)\n",
    "\n",
    "    eval_accuracy = (MulticlassClassificationEvaluator\n",
    "        (labelCol=\"label\", predictionCol=\"prediction\", metricName=\"accuracy\"))\n",
    "\n",
    "    eval_precision = (MulticlassClassificationEvaluator\n",
    "        (labelCol=\"label\", predictionCol=\"prediction\", metricName=\"weightedPrecision\"))\n",
    "\n",
    "    eval_recall = (MulticlassClassificationEvaluator\n",
    "        (labelCol=\"label\", predictionCol=\"prediction\", metricName=\"weightedRecall\"))\n",
    "\n",
    "    eval_f1 = (MulticlassClassificationEvaluator\n",
    "        (labelCol=\"label\", predictionCol=\"prediction\", metricName=\"f1\"))\n",
    "\n",
    "    accuracy = eval_accuracy.evaluate(pred)\n",
    "\n",
    "    precision =  eval_precision.evaluate(pred)\n",
    "\n",
    "    recall =  eval_recall.evaluate(pred)\n",
    "\n",
    "    f1 =  eval_f1.evaluate(pred)\n",
    "\n",
    "    print(f\"\"\"\n",
    "    Accuracy  = {accuracy}\n",
    "    Error     = {1-accuracy}\n",
    "    Precision = {precision}\n",
    "    Recall    = {recall}\n",
    "    F1        = {f1}\"\"\")\n",
    "\n",
    "    return model, pred"
   ]
  },
  {
   "cell_type": "code",
   "execution_count": 95,
   "metadata": {},
   "outputs": [],
   "source": [
    "rfm2 = RandomForestClassifier(featuresCol=\"features\",\n",
    "                              labelCol=\"label\",\n",
    "                              numTrees=50,\n",
    "                              maxDepth=5,\n",
    "                              featureSubsetStrategy='onethird')"
   ]
  },
  {
   "cell_type": "code",
   "execution_count": 96,
   "metadata": {
    "colab": {
     "base_uri": "https://localhost:8080/"
    },
    "id": "JLO2Qn3snOON",
    "outputId": "865ca113-ca97-4cb6-e605-73123ac04012"
   },
   "outputs": [
    {
     "name": "stdout",
     "output_type": "stream",
     "text": [
      "RandomForestClassifier_6d3ffc8f03d9\n",
      "\n",
      "    Accuracy  = 0.9002268488178656\n",
      "    Error     = 0.09977315118213437\n",
      "    Precision = 0.8104083793325443\n",
      "    Recall    = 0.9002268488178656\n",
      "    F1        = 0.8529596135710857\n",
      "+----------+-----+--------------------+\n",
      "|prediction|label|            features|\n",
      "+----------+-----+--------------------+\n",
      "|       0.0|    0|(5,[1,4],[1.0,400...|\n",
      "|       0.0|    0|(5,[1,4],[1.0,400...|\n",
      "|       0.0|    0|(5,[1,4],[1.0,400...|\n",
      "|       0.0|    0|(5,[1,4],[1.0,400...|\n",
      "|       0.0|    0|(5,[1,4],[1.0,400...|\n",
      "|       0.0|    0|(5,[1,4],[1.0,400...|\n",
      "|       0.0|    0|(5,[1,4],[1.0,400...|\n",
      "|       0.0|    0|(5,[1,4],[1.0,400...|\n",
      "|       0.0|    0|(5,[1,4],[1.0,400...|\n",
      "|       0.0|    0|(5,[1,4],[1.0,400...|\n",
      "+----------+-----+--------------------+\n",
      "only showing top 10 rows\n",
      "\n"
     ]
    }
   ],
   "source": [
    "_ , pred2 = train(train_df, test_df, rfm2)\n",
    "\n",
    "pred2.select(\"prediction\", \"label\", \"features\").show(10)"
   ]
  },
  {
   "cell_type": "markdown",
   "metadata": {},
   "source": [
    "<center><i><font color = 'purple'><font size = '5'> The model accuracy is 90%. Hence we shall finalise with RandomForest"
   ]
  },
  {
   "cell_type": "code",
   "execution_count": null,
   "metadata": {},
   "outputs": [],
   "source": []
  },
  {
   "cell_type": "markdown",
   "metadata": {},
   "source": [
    "# Building Pipline"
   ]
  },
  {
   "cell_type": "markdown",
   "metadata": {},
   "source": [
    "## Preparing Data"
   ]
  },
  {
   "cell_type": "code",
   "execution_count": 80,
   "metadata": {},
   "outputs": [],
   "source": [
    "# provide the tables\n",
    "df2 = sparkSession.sql(\"select emp.*,salaries.salary, dpt.dept_name from employees as emp \\\n",
    "                inner join dept_emp on emp.emp_no = dept_emp.emp_no \\\n",
    "                inner join departments as dpt on dept_emp.dept_no = dpt.dept_no \\\n",
    "                inner join titles on emp.emp_title_id = titles.title_id \\\n",
    "                inner join salaries on emp.emp_no = salaries.emp_no\").persist()\n",
    "\n",
    "# dropping columns\n",
    "df2 = df2.drop('emp_no', 'first_name', 'last_name', 'birth_date', 'emp_title_id', 'hire_date', 'last_date')\n",
    "\n",
    "# Vector Assembler\n",
    "Vect_InpCol = ['Out_sex', 'Out_last_performance_rating', 'Out_dept_name', 'salary']\n",
    "\n",
    "# setting label column\n",
    "df2 = df2.withColumnRenamed('left_status','label')"
   ]
  },
  {
   "cell_type": "markdown",
   "metadata": {},
   "source": [
    "## Fixing Stages"
   ]
  },
  {
   "cell_type": "code",
   "execution_count": 81,
   "metadata": {},
   "outputs": [],
   "source": [
    "# String Indexer\n",
    "indexer_sex = StringIndexer(inputCol='sex', outputCol='Out_sex')\n",
    "indexer_last_performance_rating = StringIndexer(inputCol='last_performance_rating', outputCol='Out_last_performance_rating')\n",
    "indexer_dept_name = StringIndexer(inputCol='dept_name', outputCol='Out_dept_name')\n",
    "\n",
    "# Vector Assembler\n",
    "assembler = VectorAssembler(inputCols = Vect_InpCol, outputCol = \"features\")\n",
    "\n",
    "# ML Model\n",
    "rfm = RandomForestClassifier(featuresCol=\"features\",\n",
    "                              labelCol=\"label\",\n",
    "                              numTrees=50,\n",
    "                              maxDepth=5,\n",
    "                              featureSubsetStrategy='onethird')\n",
    "\n",
    "# Creating Pipeline\n",
    "pipeline = Pipeline(stages= [indexer_sex, indexer_last_performance_rating, indexer_dept_name, assembler, rfm])"
   ]
  },
  {
   "cell_type": "markdown",
   "metadata": {},
   "source": [
    "## Train Test Split"
   ]
  },
  {
   "cell_type": "code",
   "execution_count": 82,
   "metadata": {},
   "outputs": [],
   "source": [
    "train, test = df2.randomSplit([0.7, 0.3], seed = 42)"
   ]
  },
  {
   "cell_type": "markdown",
   "metadata": {
    "id": "esxbn3NrmXOV"
   },
   "source": [
    "# Model Fitting"
   ]
  },
  {
   "cell_type": "code",
   "execution_count": 83,
   "metadata": {
    "id": "U3-BenaXbKYF"
   },
   "outputs": [
    {
     "name": "stdout",
     "output_type": "stream",
     "text": [
      "+-----+--------------------+----------+\n",
      "|label|            features|prediction|\n",
      "+-----+--------------------+----------+\n",
      "|    0|[1.0,1.0,3.0,4000...|       0.0|\n",
      "|    0|[1.0,1.0,3.0,4000...|       0.0|\n",
      "|    0|[1.0,1.0,3.0,4000...|       0.0|\n",
      "|    0|[1.0,1.0,3.0,4000...|       0.0|\n",
      "|    0|[1.0,1.0,3.0,4000...|       0.0|\n",
      "|    0|[1.0,1.0,3.0,4000...|       0.0|\n",
      "|    0|[1.0,1.0,3.0,4000...|       0.0|\n",
      "|    0|[1.0,1.0,3.0,4000...|       0.0|\n",
      "|    0|[1.0,1.0,3.0,4000...|       0.0|\n",
      "|    0|[1.0,1.0,3.0,4000...|       0.0|\n",
      "+-----+--------------------+----------+\n",
      "only showing top 10 rows\n",
      "\n"
     ]
    }
   ],
   "source": [
    "model = pipeline.fit(train)\n",
    "y_pred_test = model.transform(test)\n",
    "y_pred_test.select('label', 'features', 'prediction').show(10)"
   ]
  },
  {
   "cell_type": "code",
   "execution_count": null,
   "metadata": {},
   "outputs": [],
   "source": []
  },
  {
   "cell_type": "code",
   "execution_count": null,
   "metadata": {},
   "outputs": [],
   "source": []
  },
  {
   "cell_type": "code",
   "execution_count": null,
   "metadata": {},
   "outputs": [],
   "source": []
  },
  {
   "cell_type": "code",
   "execution_count": null,
   "metadata": {},
   "outputs": [],
   "source": []
  },
  {
   "cell_type": "code",
   "execution_count": null,
   "metadata": {},
   "outputs": [],
   "source": []
  }
 ],
 "metadata": {
  "kernelspec": {
   "display_name": "Python 3",
   "language": "python",
   "name": "python3"
  },
  "language_info": {
   "codemirror_mode": {
    "name": "ipython",
    "version": 3
   },
   "file_extension": ".py",
   "mimetype": "text/x-python",
   "name": "python",
   "nbconvert_exporter": "python",
   "pygments_lexer": "ipython3",
   "version": "3.7.6"
  }
 },
 "nbformat": 4,
 "nbformat_minor": 4
}
